{
 "cells": [
  {
   "cell_type": "markdown",
   "id": "4b2b87d8-665e-44a7-a850-78250847bafd",
   "metadata": {},
   "source": [
    "# Average fiber diameter comparison table"
   ]
  },
  {
   "cell_type": "code",
   "execution_count": 4,
   "id": "56e2eac3-f0b8-4210-b451-500ed5c99ba4",
   "metadata": {},
   "outputs": [],
   "source": [
    "import pandas as pd\n",
    "import os"
   ]
  },
  {
   "cell_type": "code",
   "execution_count": 5,
   "id": "00a5ff09-36c9-44f7-bf07-beb028201334",
   "metadata": {},
   "outputs": [
    {
     "data": {
      "text/plain": [
       "'/home/aalejo/proyectos/skeletonize/datasets/simulated/test'"
      ]
     },
     "execution_count": 5,
     "metadata": {},
     "output_type": "execute_result"
    }
   ],
   "source": [
    "# should get manual and purpose from two folders with images\n",
    "path = os.path.join(os.getcwd(), \"datasets/simulated/test\")\n",
    "path"
   ]
  },
  {
   "cell_type": "code",
   "execution_count": 6,
   "id": "7fd57ebb-bbea-44d1-886a-d27411ec2b9c",
   "metadata": {},
   "outputs": [],
   "source": [
    "from utils import compute_diameter_mean\n",
    "\n",
    "proposal = compute_diameter_mean(path)"
   ]
  },
  {
   "cell_type": "code",
   "execution_count": 7,
   "id": "fb4a8820-717a-47e9-8279-7a3f1c90cfa1",
   "metadata": {},
   "outputs": [
    {
     "data": {
      "text/html": [
       "<div>\n",
       "<style scoped>\n",
       "    .dataframe tbody tr th:only-of-type {\n",
       "        vertical-align: middle;\n",
       "    }\n",
       "\n",
       "    .dataframe tbody tr th {\n",
       "        vertical-align: top;\n",
       "    }\n",
       "\n",
       "    .dataframe thead th {\n",
       "        text-align: right;\n",
       "    }\n",
       "</style>\n",
       "<table border=\"1\" class=\"dataframe\">\n",
       "  <thead>\n",
       "    <tr style=\"text-align: right;\">\n",
       "      <th></th>\n",
       "      <th>manual</th>\n",
       "      <th>propuesta</th>\n",
       "    </tr>\n",
       "  </thead>\n",
       "  <tbody>\n",
       "    <tr>\n",
       "      <th>0</th>\n",
       "      <td>1</td>\n",
       "      <td>3</td>\n",
       "    </tr>\n",
       "    <tr>\n",
       "      <th>1</th>\n",
       "      <td>2</td>\n",
       "      <td>4</td>\n",
       "    </tr>\n",
       "    <tr>\n",
       "      <th>2</th>\n",
       "      <td>3</td>\n",
       "      <td>5</td>\n",
       "    </tr>\n",
       "    <tr>\n",
       "      <th>3</th>\n",
       "      <td>4</td>\n",
       "      <td>6</td>\n",
       "    </tr>\n",
       "    <tr>\n",
       "      <th>4</th>\n",
       "      <td>5</td>\n",
       "      <td>8</td>\n",
       "    </tr>\n",
       "  </tbody>\n",
       "</table>\n",
       "</div>"
      ],
      "text/plain": [
       "   manual  propuesta\n",
       "0       1          3\n",
       "1       2          4\n",
       "2       3          5\n",
       "3       4          6\n",
       "4       5          8"
      ]
     },
     "execution_count": 7,
     "metadata": {},
     "output_type": "execute_result"
    }
   ],
   "source": [
    "d = {'manual': [1,2,3,4,5], 'propuesta': proposal}\n",
    "df = pd.DataFrame(data=d)\n",
    "df"
   ]
  },
  {
   "cell_type": "code",
   "execution_count": null,
   "id": "303a6eb1-102c-4ac9-b565-ce506d5d7bcb",
   "metadata": {},
   "outputs": [],
   "source": []
  }
 ],
 "metadata": {
  "kernelspec": {
   "display_name": "iaenv2024_kernel",
   "language": "python",
   "name": "iaenv2024_kernel"
  },
  "language_info": {
   "codemirror_mode": {
    "name": "ipython",
    "version": 3
   },
   "file_extension": ".py",
   "mimetype": "text/x-python",
   "name": "python",
   "nbconvert_exporter": "python",
   "pygments_lexer": "ipython3",
   "version": "3.11.9"
  }
 },
 "nbformat": 4,
 "nbformat_minor": 5
}
